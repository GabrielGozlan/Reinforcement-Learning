{
 "cells": [
  {
   "cell_type": "code",
   "execution_count": 2,
   "id": "8989c07b-8e50-4ce3-9e9b-7588ac8000a0",
   "metadata": {},
   "outputs": [],
   "source": [
    "%run Agent_Lib.ipynb"
   ]
  },
  {
   "cell_type": "code",
   "execution_count": 9,
   "id": "bdf1b0e3",
   "metadata": {},
   "outputs": [
    {
     "name": "stdout",
     "output_type": "stream",
     "text": [
      "Episode: 1 starts\n",
      "Episode 1 , Reward: -200.0\n",
      "[-200.]\n"
     ]
    }
   ],
   "source": [
    "randomAgent = RandomAgent(1,gym.make('MountainCar-v0', render_mode=\"human\"))\n",
    "\n",
    "randomAgent.train(1,True)\n",
    "randomAgent.env.close()"
   ]
  },
  {
   "cell_type": "code",
   "execution_count": 10,
   "id": "6235372f-d746-4cd4-96b6-a204d80ab81b",
   "metadata": {},
   "outputs": [
    {
     "name": "stdout",
     "output_type": "stream",
     "text": [
      "[-200. -200. -200. -200. -200. -200. -200. -200. -200. -200. -200. -200.\n",
      " -200. -200. -200. -200. -200. -200. -200. -200. -200. -200. -200. -200.\n",
      " -200. -200. -200. -200. -200. -200. -200. -200. -200. -200. -200. -200.\n",
      " -200. -200. -200. -200. -200. -200. -200. -200. -200. -200. -200. -200.\n",
      " -200. -200. -200. -200. -200. -200. -200. -200. -200. -200. -200. -200.\n",
      " -200. -200. -200. -200. -200. -200. -200. -200. -200. -200. -200. -200.\n",
      " -200. -200. -200. -200. -200. -200. -200. -200. -200. -200. -200. -200.\n",
      " -200. -200. -200. -200. -200. -200. -200. -200. -200. -200. -200. -200.\n",
      " -200. -200. -200. -200.]\n"
     ]
    }
   ],
   "source": [
    "randomAgent = RandomAgent(1,gym.make('MountainCar-v0', render_mode=None))\n",
    "\n",
    "randomAgent.train(100)\n",
    "randomAgent.env.close()"
   ]
  },
  {
   "cell_type": "code",
   "execution_count": 4,
   "id": "f12f4637-098e-4f84-8c18-cfa68814765a",
   "metadata": {},
   "outputs": [
    {
     "name": "stdout",
     "output_type": "stream",
     "text": [
      "Episode: 1 starts\n"
     ]
    },
    {
     "ename": "AttributeError",
     "evalue": "module 'numpy' has no attribute 'zero'",
     "output_type": "error",
     "traceback": [
      "\u001b[1;31m---------------------------------------------------------------------------\u001b[0m",
      "\u001b[1;31mAttributeError\u001b[0m                            Traceback (most recent call last)",
      "Cell \u001b[1;32mIn[4], line 2\u001b[0m\n\u001b[0;32m      1\u001b[0m DQN \u001b[38;5;241m=\u001b[39m DQNAgent(\u001b[38;5;241m0\u001b[39m,\u001b[38;5;241m0.9\u001b[39m)\n\u001b[1;32m----> 2\u001b[0m \u001b[43mDQN\u001b[49m\u001b[38;5;241;43m.\u001b[39;49m\u001b[43mtrain\u001b[49m\u001b[43m(\u001b[49m\u001b[38;5;241;43m1\u001b[39;49m\u001b[43m,\u001b[49m\u001b[43m \u001b[49m\u001b[38;5;28;43;01mTrue\u001b[39;49;00m\u001b[43m)\u001b[49m\n",
      "File \u001b[1;32m~\\AppData\\Local\\Temp\\ipykernel_30036\\730675839.py:60\u001b[0m, in \u001b[0;36mDQNAgent.train\u001b[1;34m(self, episodes, debug_mode)\u001b[0m\n\u001b[0;32m     58\u001b[0m done \u001b[38;5;241m=\u001b[39m \u001b[38;5;28;01mFalse\u001b[39;00m\n\u001b[0;32m     59\u001b[0m episode_reward \u001b[38;5;241m=\u001b[39m \u001b[38;5;241m0\u001b[39m\n\u001b[1;32m---> 60\u001b[0m \u001b[38;5;28mself\u001b[39m\u001b[38;5;241m.\u001b[39mreplay_buffer \u001b[38;5;241m=\u001b[39m \u001b[43mnp\u001b[49m\u001b[38;5;241;43m.\u001b[39;49m\u001b[43mzero\u001b[49m((replay_buffer_SIZE))\n\u001b[0;32m     61\u001b[0m k\u001b[38;5;241m=\u001b[39m\u001b[38;5;241m0\u001b[39m\n\u001b[0;32m     63\u001b[0m \u001b[38;5;28;01mwhile\u001b[39;00m \u001b[38;5;129;01mnot\u001b[39;00m done:\n",
      "File \u001b[1;32m~\\anaconda3\\envs\\ReinforcementLearning\\lib\\site-packages\\numpy\\__init__.py:362\u001b[0m, in \u001b[0;36m__getattr__\u001b[1;34m(attr)\u001b[0m\n\u001b[0;32m    359\u001b[0m     \u001b[38;5;124m\"\u001b[39m\u001b[38;5;124mRemoved in NumPy 1.25.0\u001b[39m\u001b[38;5;124m\"\u001b[39m\n\u001b[0;32m    360\u001b[0m     \u001b[38;5;28;01mraise\u001b[39;00m \u001b[38;5;167;01mRuntimeError\u001b[39;00m(\u001b[38;5;124m\"\u001b[39m\u001b[38;5;124mTester was removed in NumPy 1.25.\u001b[39m\u001b[38;5;124m\"\u001b[39m)\n\u001b[1;32m--> 362\u001b[0m \u001b[38;5;28;01mraise\u001b[39;00m \u001b[38;5;167;01mAttributeError\u001b[39;00m(\u001b[38;5;124m\"\u001b[39m\u001b[38;5;124mmodule \u001b[39m\u001b[38;5;132;01m{!r}\u001b[39;00m\u001b[38;5;124m has no attribute \u001b[39m\u001b[38;5;124m\"\u001b[39m\n\u001b[0;32m    363\u001b[0m                      \u001b[38;5;124m\"\u001b[39m\u001b[38;5;132;01m{!r}\u001b[39;00m\u001b[38;5;124m\"\u001b[39m\u001b[38;5;241m.\u001b[39mformat(\u001b[38;5;18m__name__\u001b[39m, attr))\n",
      "\u001b[1;31mAttributeError\u001b[0m: module 'numpy' has no attribute 'zero'"
     ]
    }
   ],
   "source": [
    "DQN = DQNAgent(0,0.9)\n",
    "DQN.train(1, True)"
   ]
  },
  {
   "cell_type": "code",
   "execution_count": null,
   "id": "f9b842d1-789b-4347-84e3-f8ef02b33e8a",
   "metadata": {},
   "outputs": [],
   "source": []
  },
  {
   "cell_type": "code",
   "execution_count": null,
   "id": "f1fbcf84-e1db-4207-827f-f93657220258",
   "metadata": {},
   "outputs": [],
   "source": []
  }
 ],
 "metadata": {
  "kernelspec": {
   "display_name": "Python 3 (ipykernel)",
   "language": "python",
   "name": "python3"
  },
  "language_info": {
   "codemirror_mode": {
    "name": "ipython",
    "version": 3
   },
   "file_extension": ".py",
   "mimetype": "text/x-python",
   "name": "python",
   "nbconvert_exporter": "python",
   "pygments_lexer": "ipython3",
   "version": "3.9.19"
  }
 },
 "nbformat": 4,
 "nbformat_minor": 5
}
