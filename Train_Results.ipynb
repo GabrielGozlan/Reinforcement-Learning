{
 "cells": [
  {
   "cell_type": "code",
   "execution_count": 7,
   "id": "8989c07b-8e50-4ce3-9e9b-7588ac8000a0",
   "metadata": {},
   "outputs": [],
   "source": [
    "%run Agent_Lib.ipynb"
   ]
  },
  {
   "cell_type": "code",
   "execution_count": 9,
   "id": "bdf1b0e3",
   "metadata": {},
   "outputs": [
    {
     "name": "stdout",
     "output_type": "stream",
     "text": [
      "Episode: 1 starts\n",
      "Episode 1 , Reward: -200.0\n",
      "[-200.]\n"
     ]
    }
   ],
   "source": [
    "randomAgent = RandomAgent(1,gym.make('MountainCar-v0', render_mode=\"human\"))\n",
    "\n",
    "randomAgent.train(1,True)\n",
    "randomAgent.env.close()"
   ]
  },
  {
   "cell_type": "code",
   "execution_count": 10,
   "id": "6235372f-d746-4cd4-96b6-a204d80ab81b",
   "metadata": {},
   "outputs": [
    {
     "name": "stdout",
     "output_type": "stream",
     "text": [
      "[-200. -200. -200. -200. -200. -200. -200. -200. -200. -200. -200. -200.\n",
      " -200. -200. -200. -200. -200. -200. -200. -200. -200. -200. -200. -200.\n",
      " -200. -200. -200. -200. -200. -200. -200. -200. -200. -200. -200. -200.\n",
      " -200. -200. -200. -200. -200. -200. -200. -200. -200. -200. -200. -200.\n",
      " -200. -200. -200. -200. -200. -200. -200. -200. -200. -200. -200. -200.\n",
      " -200. -200. -200. -200. -200. -200. -200. -200. -200. -200. -200. -200.\n",
      " -200. -200. -200. -200. -200. -200. -200. -200. -200. -200. -200. -200.\n",
      " -200. -200. -200. -200. -200. -200. -200. -200. -200. -200. -200. -200.\n",
      " -200. -200. -200. -200.]\n"
     ]
    }
   ],
   "source": [
    "randomAgent = RandomAgent(1,gym.make('MountainCar-v0', render_mode=None))\n",
    "\n",
    "randomAgent.train(100)\n",
    "randomAgent.env.close()"
   ]
  },
  {
   "cell_type": "code",
   "execution_count": null,
   "id": "f12f4637-098e-4f84-8c18-cfa68814765a",
   "metadata": {},
   "outputs": [],
   "source": []
  }
 ],
 "metadata": {
  "kernelspec": {
   "display_name": "Python 3 (ipykernel)",
   "language": "python",
   "name": "python3"
  },
  "language_info": {
   "codemirror_mode": {
    "name": "ipython",
    "version": 3
   },
   "file_extension": ".py",
   "mimetype": "text/x-python",
   "name": "python",
   "nbconvert_exporter": "python",
   "pygments_lexer": "ipython3",
   "version": "3.12.3"
  }
 },
 "nbformat": 4,
 "nbformat_minor": 5
}
